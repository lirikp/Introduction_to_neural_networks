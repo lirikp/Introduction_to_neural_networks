{
 "cells": [
  {
   "cell_type": "markdown",
   "metadata": {
    "id": "GJqW1sHnm591"
   },
   "source": [
    "# Введение в искусственные нейронные сети\n",
    "# Урок 4. Сверточные нейронные сети"
   ]
  },
  {
   "cell_type": "markdown",
   "metadata": {
    "id": "9-Q9O6Urm595"
   },
   "source": [
    "## Содержание методического пособия:\n",
    "\n",
    "\n",
    "<ol>\n",
    "<li>Что такое Сверточные нейронные сети</li>\n",
    "<li>Архитектура Сверточных нейронных сетей</li>\n",
    "<li>Несколько практических примеров сверточных нейронных сетей на Keras</li>\n",
    "</ol>"
   ]
  },
  {
   "cell_type": "markdown",
   "metadata": {
    "id": "Gkhjh86Xm598"
   },
   "source": [
    "## Что такое Сверточные нейронные сети\n",
    "\n",
    "Сверточные нейронные сети - это нейронные сети приспособленные впервую очередь для задач распознования образов. В их основе лежат работы в области изучения зрительной коры головного мозга. Их отличительная черта - добавление сверточных и пуллинговых слоев в архитектуру нейронной сети. Подробности архитектуры мы рассмотрим в следующей части данного методического пособия, а пока давайте взглянем на области применения данного вида нейронных сетей:\n",
    "\n",
    "- Задачи связанные с определением того какому классу принадлежит объект на фотографии\n",
    "\n",
    "- Сверточные нейронные сети в модифицированном виде могут определять не только что находиться на фотографии, но где находиться (этому виду нейронных сетей будет посвящен отдельный урок)\n",
    "\n",
    "- Распознование лиц. В 2001 г. появился алгоритм Виолы-Джонса, который предложил технологию позволяющую технике находить лица на фотографиях и  в видеопотоке. На данный момент по эфективности этот алгоритм превзайден свертончными нейронными сетями.\n",
    "\n",
    "- Проставление лейблов изображениям. Используется Google, Amazon, Facebook\n",
    "\n",
    "- Визуальный поиск. Используется Google\n",
    "\n",
    "- Рекомендательные системы. Amazon например, использует это для секции \"вам также может понравиться\" для одежды.\n",
    "\n",
    "- В социальных сетях, с помощью них отмечаются люди на фотографиях\n",
    "\n",
    "- Помощь врачам в анализе медицинских снимков\n",
    "\n",
    "- Предиктивная аналитика. Помощь в предсказании проблем со здоровьем\n",
    "\n",
    "- Оценка цифр написанных от руки банками. Одно из самых ранних применений сверточных нейронных сетей.\n",
    "\n",
    "Однако применение сверточных нейронных сетей не ограничивается областью компьютерного зрения. Они также применяются и в других областях:\n",
    "\n",
    "- Анализ текстов. Для этого больше подходят рекуррентные нейронные сети, но когда речь заходит о детекции определенных признаков в тексте например бранной речи, лучше могут подойти сверточные нейронные сети\n",
    "\n",
    "- Предиктивный анализ. В частности предсказание погоды.\n"
   ]
  },
  {
   "cell_type": "markdown",
   "metadata": {
    "id": "mLr1mPHsm59-"
   },
   "source": [
    "## Глубокое обучение\n",
    "\n",
    "![full_connected.png](attachment:full_connected.png)\n",
    "\n",
    "Источник изображения - https://camo.githubusercontent.com/920e95dc71acebe014549c9288cbf42cbe5c8afc/68747470733a2f2f6861726973686e61726179616e616e2e6f72672f696d616765732f77726974696e672f61727469737469632d7374796c652d7472616e736665722f726570726573656e746174696f6e2d6c6561726e696e672e706e67\n",
    "\n",
    "\n",
    "\n",
    "Глубокое обучение - это обучение глубоких нейронных сетей. Глубокие нейронные сети - это сети с больше чем одним внутренним слоем.\n",
    "\n",
    "Однако, прежде чем мы начнем разбирать глубокое обучение давайте в кратце опишем сверточные нейронные сети. Типичная сверточная нейронная сеть состоит из входного слоя и череды сверточных и пуллинговых слоев, следующих как правило друг за другом и нескольких полносвязных слоев на выходе.\n",
    "\n",
    "Давайте попробуем разобраться в смысле данной архитектуры и как она связана с глубоким обучением. В отношение нейронных сетей известно, что нейронная сеть в один слой может лишить любую задачу. Но такой подход будет очень грубым решением проблемы и вычислительной мощности современных компьютеров не хватит, чтобы нейронная сеть в один слой например могла различать классы объектов на фотографии. \n",
    "\n",
    "Данная диллема решается через другой научный факт известный в отношении нейронных сетей - чем больше слоев тем эффективнее нейросеть. Т.е. строя многослойную нейронную сеть может понадобиться меньше нейронов чем если строить однослойную. Связано это с тем, что каждый слой выучивает признаки на определенном уровне абстракции и следующии за ним слои используют уже имеющиеся признаки, а не выучивают их заново.\n",
    "\n",
    "Давайте в общих чертах посмотрим на то, как происходит процесс обучение в глубокой нейронной сети, поскольку такой же процесс в общих чертах будет характерен и для сверточных нейронных сетей.\n",
    "\n",
    "Допустим мы будем работать с изображениями животных. Первые слои выучат признаки животных низкого уровня абстракции такие как линии под определенными углами, следующие слои на базе этих признаков выучат более сложные признаки, например геом. фигуры на базе сочетания этих линий. Следующие слои выучат такие признаки как глаза, уши и т.д. которые будут составлены из этих геометрических фигур. Подобные высокоасбтрактные признаки как названнные выше уже можно использовать для того чтобы сделать заключение какое животное на картинке.\n",
    "\n",
    "Описанная система лучше с точки зрения вычислительных затрат. Однако если мы сделаем несколько полносвязных слоев где каждый нейрон связан с каждым нейроном другого слоя, то на обсчитывание этих связей уйдет меньше вычисл. ресурсов чем если бы нейронная сеть была в один слой, но всеравно такая нейронная сеть в не учебных задачах будет обучаться неприемлимо долго. \n",
    "\n",
    "\n",
    "## Архитектура Сверточных нейронных сетей\n",
    "\n",
    "![lenet.png](attachment:lenet.png)\n",
    "Источник - http://yann.lecun.com/exdb/publis/pdf/lecun-01a.pdf\n",
    "\n",
    "Сверточные нейронные сети - это самый природо-подобный алгоритм из всех. Современные сверточные нейронные сети базируется на произведшей революцию в комп. зрении нейронной сети AlexNet, она базируется на сверточных нейронных сетях, которые разрабатывал Ян Лекун в 90 гг., те в свою очередь базируется на японском Neocognitron 1980 г., а он свою очередь на открытиях в области зрительной коры головного мозга. Конечно современные архитектуры сверточных нейронных сетей такие Inception-v4 сильно отличаются от сверточных нейронных сетей 90-x. Однако у них есть общие черты, которые и делают сверточные нейронные сети эффективными. Особенности сверточных нейронных сетей о которых речь пойдет далее призваны помочь строить глубокие нейронные сети, имеющими меньшие вычислительные затраты чем полносвязные. \n",
    "\n",
    "Главная отличительная черта сверточных нейронных сетей - это наличие сверточных слоев и пуллинг слоев. Подобные слои как раз и были обнаружены в зрительной коре головного мозга, но они называны по другому и работают конечно более сложным образом. В искусственной нейронной сети сверточный слой состоит из фрагментов, которые связаны только с определенной частью изображения, что позволяет не связывать каждый нейрон с каждым пикселем и уменьшить вычислительные затраты. Конечная цель сверточного слоя получить определенные признаки от изображения и передать их в следующий слой, точно также как и случае с обычной полнозсвязной нейронной сетью. Но сверточный слой это делает более эффективно. Если говорить упрощенно, то сама операция свертки предствляет из себя процесс преобразования большего набора чисел в меньший набор чисел их репрезентующий. Пуллинг слои следуют за сверточными слоями и призваны очистить от лишней информации эти признаки и убрать у них локальную привязку. Сама операция пуллинга если говорить опять же упрощенно представляет из себя процесс отбрасывания менее значимых сигналов представленных в виде чисел. Пулинг слои являются важной состовляющей нейронных сетей, однако из-за них сверточной нейронной сети всеравно где располагаются глаза например у кота над носом или под носом, главное сочетание этих признаков.\n",
    "\n",
    "Сверточная нейронная сеть строиться по принципу пирамиды - первые слои содержат больше нейронов, а последующие все меньше и меньше. Связано это с тем что низкоабстрактных признаков больше чем высокоабстрактных.\n",
    "\n",
    "Как правило на конце нейронной сети располагаются несколько полносвязных слоев. Эти слои как раз уже учатся на высокоабстрактных признаках которых немного и соотвественно не требуется много слоев и соотвесвенно с точки зрения вычислительных затрат они приемлимы. Т.е. получается сверточную нейронную сеть можно условно поделить на две части - одна извлекается признаки, а другая, полносвязная обучается на этих признаках.\n",
    "\n",
    "Однако стоит отметить, что современные сверточные нейронные сети в целях оптимизации их работы снабжаются многим дополнительными архитектурными решениями, такими например как возможность иметь в одном слое разные конфигурации свертки, пропускать при необходимости сигнал обратного распространения ошибки сквозь слои, использование нескольких слоев свертки подряд, неиспользование полносвязных слоев на конце нейронных сетей. Как правило, все эти нововведения направлены на то чтобы сделать нейронные сети более глубокими, что в свою очередь улучшает точность работы нейронных сетей. \n",
    "\n",
    "\n",
    "\n"
   ]
  },
  {
   "cell_type": "code",
   "execution_count": null,
   "metadata": {
    "id": "z_4VWQ8w9NJR"
   },
   "outputs": [],
   "source": [
    "# Requires the latest pip\n",
    "#!pip install --upgrade pip\n",
    "\n",
    "# Current stable release for CPU and GPU\n",
    "#!pip install tensorflow\n",
    "\n",
    "# Or try the preview build (unstable)\n",
    "#!pip install tf-nightly"
   ]
  },
  {
   "cell_type": "code",
   "execution_count": null,
   "metadata": {
    "id": "iGu1gJYrtSam"
   },
   "outputs": [],
   "source": [
    "import cv2\n",
    "import numpy as np\n",
    "from scipy import misc\n",
    "I = misc.ascent()"
   ]
  },
  {
   "cell_type": "code",
   "execution_count": null,
   "metadata": {
    "colab": {
     "base_uri": "https://localhost:8080/"
    },
    "id": "6Id_IhJW4VEi",
    "outputId": "e7ee2f39-6874-41b9-afb9-728ea7dbc771"
   },
   "outputs": [],
   "source": [
    "I.shape"
   ]
  },
  {
   "cell_type": "code",
   "execution_count": null,
   "metadata": {
    "colab": {
     "base_uri": "https://localhost:8080/",
     "height": 248
    },
    "id": "RTeWC5iEtXZ0",
    "outputId": "e4cbd1ab-7abe-4bbe-9ed3-d6b804c844f8"
   },
   "outputs": [],
   "source": [
    "import matplotlib.pyplot as plt\n",
    "plt.grid(False)\n",
    "plt.gray()\n",
    "plt.axis('off')\n",
    "plt.imshow(I)\n",
    "plt.show()"
   ]
  },
  {
   "cell_type": "code",
   "execution_count": null,
   "metadata": {
    "id": "o5pxGq1SmJMD"
   },
   "outputs": [],
   "source": [
    "I_transformed = np.copy(I)\n",
    "size_x = I_transformed.shape[0]\n",
    "size_y = I_transformed.shape[1]"
   ]
  },
  {
   "cell_type": "code",
   "execution_count": null,
   "metadata": {
    "id": "pDLckU_4tsvK"
   },
   "outputs": [],
   "source": [
    "#filter = np.array([ [1, 1, 1], [1, 1, 1], [1, 1, 1]])/9\n",
    "# Фильтры края.\n",
    "\n",
    "#Разные фильтры.\n",
    "filter = [ [0, 1, 0], [1, -4, 1], [0, 1, 0]]\n",
    "#filter = np.random.randn(3,3)\n",
    "\n",
    "# Много разных\n",
    "#filter = [ [-1, -2, -1], [0, 0, 0], [1, 2, 1]]\n",
    "filter = [ [-1, 0, 1], [-2, 0, 2], [-1, 0, 1]]\n",
    "\n",
    "# зададим вес для свертки\n",
    "weight  = 1"
   ]
  },
  {
   "cell_type": "code",
   "execution_count": null,
   "metadata": {
    "colab": {
     "base_uri": "https://localhost:8080/"
    },
    "id": "6b8SPyFO50Yy",
    "outputId": "084fce34-c5cc-4cd0-b721-9f07acc0a637"
   },
   "outputs": [],
   "source": [
    "np.array(filter).shape"
   ]
  },
  {
   "cell_type": "code",
   "execution_count": null,
   "metadata": {
    "colab": {
     "base_uri": "https://localhost:8080/"
    },
    "id": "rWoVd9WM6GFX",
    "outputId": "3c30d63f-f776-415e-b7c3-a57688f70447"
   },
   "outputs": [],
   "source": [
    "filter"
   ]
  },
  {
   "cell_type": "markdown",
   "metadata": {
    "id": "nOBm5Virvsc9"
   },
   "source": [
    "### Свертка"
   ]
  },
  {
   "cell_type": "code",
   "execution_count": null,
   "metadata": {
    "id": "LstrYNtjumsq"
   },
   "outputs": [],
   "source": [
    "for x in range(1,size_x-1):\n",
    "  for y in range(1,size_y-1):\n",
    "      convolution = 0.0\n",
    "      convolution = convolution + (I[x - 1, y-1] * filter[0][0])\n",
    "      convolution = convolution + (I[x, y-1] * filter[0][1])\n",
    "      convolution = convolution + (I[x + 1, y-1] * filter[0][2])\n",
    "      convolution = convolution + (I[x-1, y] * filter[1][0])\n",
    "      convolution = convolution + (I[x, y] * filter[1][1])\n",
    "      convolution = convolution + (I[x+1, y] * filter[1][2])\n",
    "      convolution = convolution + (I[x-1, y+1] * filter[2][0])\n",
    "      convolution = convolution + (I[x, y+1] * filter[2][1])\n",
    "      convolution = convolution + (I[x+1, y+1] * filter[2][2])\n",
    "      convolution = convolution * weight\n",
    "      if(convolution<0):\n",
    "        convolution=0\n",
    "      if(convolution>255):\n",
    "        convolution=255\n",
    "      I_transformed[x, y] = convolution"
   ]
  },
  {
   "cell_type": "code",
   "execution_count": null,
   "metadata": {
    "colab": {
     "base_uri": "https://localhost:8080/",
     "height": 845
    },
    "id": "5iC-b7nruwiZ",
    "outputId": "117e7a57-21d1-44ec-cfcc-de5a211daf6f"
   },
   "outputs": [],
   "source": [
    "# Plot the image. 512 by 512\n",
    "plt.figure(figsize=(15,7))\n",
    "plt.gray()\n",
    "plt.grid(False)\n",
    "plt.subplot(1,2,1)\n",
    "plt.imshow(I)\n",
    "plt.subplot(1,2,2)\n",
    "plt.imshow(I_transformed)\n",
    "#plt.axis('off')\n",
    "plt.show()\n",
    "\n",
    "ymin,ymax,xmin,xmax = 100,200,0,100\n",
    "\n",
    "plt.figure(figsize=(15,7))\n",
    "plt.gray()\n",
    "plt.grid(False)\n",
    "plt.subplot(1,2,1)\n",
    "plt.imshow(I[ymin:ymax,xmin:xmax])\n",
    "plt.subplot(1,2,2)\n",
    "plt.imshow(I_transformed[ymin:ymax,xmin:xmax])\n",
    "#plt.axis('off')\n",
    "plt.show() "
   ]
  },
  {
   "cell_type": "code",
   "execution_count": null,
   "metadata": {
    "colab": {
     "base_uri": "https://localhost:8080/",
     "height": 430
    },
    "id": "sWRGo93-vi2h",
    "outputId": "e6c09a1a-871c-4170-d7cf-34c85b4e0c16"
   },
   "outputs": [],
   "source": [
    "for x in range(1,size_x-1):\n",
    "  for y in range(1,size_y-1):\n",
    "      convolution = 0.0\n",
    "\n",
    "      dI = I[x-1:x+2, y-1: y +2] \n",
    "      convolution =np.sum(dI * filter)\n",
    "\n",
    "      convolution = convolution * weight\n",
    "      if(convolution<0):\n",
    "        convolution=0\n",
    "      if(convolution>255):\n",
    "        convolution=255\n",
    "      I_transformed[x, y] = convolution\n",
    "\n",
    "\n",
    "ymin,ymax,xmin,xmax = 100,200,0,100\n",
    "\n",
    "plt.figure(figsize=(15,7))\n",
    "plt.gray()\n",
    "plt.grid(False)\n",
    "plt.subplot(1,2,1)\n",
    "plt.imshow(I[ymin:ymax,xmin:xmax])\n",
    "plt.subplot(1,2,2)\n",
    "plt.imshow(I_transformed[ymin:ymax,xmin:xmax])\n",
    "#plt.axis('off')\n",
    "plt.show()"
   ]
  },
  {
   "cell_type": "markdown",
   "metadata": {
    "id": "BNGwTm4BvmbZ"
   },
   "source": [
    "### Pooling"
   ]
  },
  {
   "cell_type": "code",
   "execution_count": null,
   "metadata": {
    "colab": {
     "base_uri": "https://localhost:8080/",
     "height": 682
    },
    "id": "Laa2qLuTvhZW",
    "outputId": "dc5b16b3-ddf6-4091-95e0-becfc4e0e5d8"
   },
   "outputs": [],
   "source": [
    "new_x = int(size_x/2)\n",
    "new_y = int(size_y/2)\n",
    "newImage = np.zeros((new_x, new_y))\n",
    "for x in range(0, size_x, 2):\n",
    "  for y in range(0, size_y, 2):\n",
    "    pixels = []\n",
    "    pixels.append(I_transformed[x, y])\n",
    "    pixels.append(I_transformed[x+1, y])\n",
    "    pixels.append(I_transformed[x, y+1])\n",
    "    pixels.append(I_transformed[x+1, y+1])\n",
    "    newImage[int(x/2),int(y/2)] = np.max(pixels)\n",
    "\n",
    "# Plot the image. Note the size of the axes -- now 256 pixels instead of 512\n",
    "plt.gray()\n",
    "plt.grid(False)\n",
    "plt.imshow(newImage)\n",
    "#plt.axis('off')\n",
    "plt.show()\n",
    "\n",
    "ymin,ymax,xmin,xmax = 100,200,0,100\n",
    "\n",
    "plt.figure(figsize=(15,7))\n",
    "plt.gray()\n",
    "plt.grid(False)\n",
    "plt.subplot(1,2,1)\n",
    "plt.imshow(I_transformed[ymin:ymax,xmin:xmax])\n",
    "plt.subplot(1,2,2)\n",
    "plt.imshow(newImage[ymin//2:ymax//2,xmin//2:xmax//2])\n",
    "\n",
    "#plt.axis('off')\n",
    "plt.show()"
   ]
  },
  {
   "cell_type": "markdown",
   "metadata": {
    "id": "IMWXaoLom59_"
   },
   "source": [
    "## Пример создания сверточных и пуллинг слоев на Keras"
   ]
  },
  {
   "cell_type": "code",
   "execution_count": null,
   "metadata": {
    "id": "jVlE5weZatMB"
   },
   "outputs": [],
   "source": [
    "import numpy as np\n",
    "import tensorflow as tf\n",
    "from tensorflow.keras.models import Sequential, Model\n",
    "from tensorflow.keras.layers import Conv2D, Input\n",
    "from tensorflow.keras.layers import GlobalMaxPooling2D, MaxPooling2D, AveragePooling2D, GlobalAveragePooling2D "
   ]
  },
  {
   "cell_type": "code",
   "execution_count": null,
   "metadata": {
    "colab": {
     "base_uri": "https://localhost:8080/"
    },
    "id": "5shYON7Rm5-B",
    "outputId": "8ecd92d5-8677-4547-e26e-d72af92ca583"
   },
   "outputs": [],
   "source": [
    "\n",
    "\n",
    "# определение входных данных(8 массивов с 8 элементами)\n",
    "data = [[0, 0, 0, 1, 1, 0, 0, 0],\n",
    "\t\t[0, 0, 0, 1, 1, 0, 0, 0],\n",
    "\t\t[0, 0, 0, 1, 1, 0, 0, 0],\n",
    "\t\t[0, 0, 0, 1, 1, 0, 1, 0],\n",
    "\t\t[0, 1, 0, 1, 1, 0, 0, 0],\n",
    "\t\t[0, 0, 0, 1, 1, 0, 0, 0],\n",
    "\t\t[0, 0, 0, 1, 1, 0, 0, 0],\n",
    "\t\t[0, 0, 0, 1, 1, 0, 0, 0]]\n",
    "\n",
    "data = np.array(data)\n",
    "data = data.reshape(1, 8, 8, 1)\n",
    "\n",
    "# создание модели\n",
    "x_input = Input(shape=(8,8,1))\n",
    "x_conv = Conv2D(     1, (3,3), activation='relu')(x_input)#,padding='same'\n",
    "x_pool = AveragePooling2D(    )(x_conv)\n",
    "\n",
    "model = Model(x_input,x_pool)\n",
    "model_conv = Model(x_input,x_conv)\n",
    "\n",
    "# вывод описания созданной модели\n",
    "model.summary()\n",
    "\n"
   ]
  },
  {
   "cell_type": "code",
   "execution_count": null,
   "metadata": {
    "colab": {
     "base_uri": "https://localhost:8080/"
    },
    "id": "IwpApVE8dT4p",
    "outputId": "1c3dbb9c-d72e-48f9-fa1a-b4de73265503"
   },
   "outputs": [],
   "source": [
    "hh = model.layers[-2]\n",
    "hh"
   ]
  },
  {
   "cell_type": "code",
   "execution_count": null,
   "metadata": {
    "colab": {
     "base_uri": "https://localhost:8080/"
    },
    "id": "rnTVwdin6myp",
    "outputId": "909fb9ad-b39b-4e2b-d952-6f457ca2da9e"
   },
   "outputs": [],
   "source": [
    "w_old = model.layers[-2].get_weights()\n",
    "w_old"
   ]
  },
  {
   "cell_type": "code",
   "execution_count": null,
   "metadata": {
    "colab": {
     "base_uri": "https://localhost:8080/"
    },
    "id": "nfqpXpef6lEg",
    "outputId": "3bd7de29-30b9-46d8-bf66-7441900d8188"
   },
   "outputs": [],
   "source": [
    "# определение дектора вертикальной линии\n",
    "detector = [[[[0]],[[1]],[[0]]],\n",
    "            [[[0]],[[1]],[[0]]],\n",
    "            [[[0]],[[1]],[[0]]]]\n",
    "weights = [np.array(detector), np.array([0.0])]\n",
    "\n",
    "# сохранение весов в модель\n",
    "model.set_weights(weights)\n",
    "\n",
    "# применение фильтра к входным данным\n",
    "ypool = model.predict(data)\n",
    "\n",
    "print(ypool[0].T)\n"
   ]
  },
  {
   "cell_type": "code",
   "execution_count": null,
   "metadata": {
    "colab": {
     "base_uri": "https://localhost:8080/"
    },
    "id": "tvrhlCiBYmx_",
    "outputId": "1d653e53-ce53-4ae3-e68d-d3fab6ef1ffa"
   },
   "outputs": [],
   "source": [
    "y_conv = model_conv.predict(data)\n",
    "print('Входной тензор')\n",
    "print(data[0].T)\n",
    "print('Результат свертки')\n",
    "print(y_conv[0].T)\n",
    "\n",
    "print('размерность входа',data.shape)\n",
    "print('размерность входа',y_conv.shape)"
   ]
  },
  {
   "cell_type": "code",
   "execution_count": null,
   "metadata": {
    "colab": {
     "base_uri": "https://localhost:8080/"
    },
    "id": "fOpREfulZ1SK",
    "outputId": "9d66265e-e333-410d-afa6-46dcd12e0823"
   },
   "outputs": [],
   "source": [
    "y_conv = model_conv.predict(data)\n",
    "print('Входной тензор')\n",
    "print(data[0].T)\n",
    "print('Результат свертки')\n",
    "print(y_conv[0].T)\n",
    "\n",
    "print('размерность входа',data.shape)\n",
    "print('размерность выхода свертки',y_conv.shape)\n",
    "\n",
    "print('Результат пулинга')\n",
    "print(ypool[0].T)\n",
    "print('размерность выхода пулинга',ypool.shape)"
   ]
  },
  {
   "cell_type": "code",
   "execution_count": null,
   "metadata": {
    "colab": {
     "base_uri": "https://localhost:8080/"
    },
    "id": "NaT8s0o1mEyk",
    "outputId": "3fa531e0-6cc0-4b1a-869e-33336f66a36b"
   },
   "outputs": [],
   "source": [
    "# создание модели\n",
    "x_input = Input(shape=(512,512,1))\n",
    "x_conv = Conv2D(1, (3,3), activation='relu',padding='same')(x_input)\n",
    "pool_kernel = 20\n",
    "strade = 2#pool_kernel\n",
    "x_pool = MaxPooling2D( pool_size=(pool_kernel,pool_kernel), strides=strade)(x_conv)\n",
    "\n",
    "model1 = Model(x_input,x_pool)\n",
    "model_conv1 = Model(x_input,x_conv)\n",
    "\n",
    "\n",
    "\n",
    "# определение дектора вертикальной линии\n",
    "detector = [[[[1]],[[-1]],[[-1]]],\n",
    "            [[[1]],[[-1]],[[-1]]],\n",
    "            [[[1]],[[-1]],[[-1]]]]\n",
    "weights = [np.array(detector), np.array([0.0])]\n",
    "\n",
    "model.set_weights(weights)\n",
    "\n",
    "# вывод описания созданной модели\n",
    "model1.summary()"
   ]
  },
  {
   "cell_type": "code",
   "execution_count": null,
   "metadata": {
    "colab": {
     "base_uri": "https://localhost:8080/",
     "height": 929
    },
    "id": "zGfhNBzbmaq_",
    "outputId": "2f443d5d-4a15-4928-a4b0-50b1eabc7dfa"
   },
   "outputs": [],
   "source": [
    "\n",
    "y_conv1 = model_conv1.predict(I.reshape((1,512,512,1)))\n",
    "y_pool1 = model1.predict(I.reshape((1,512,512,1)))\n",
    "print('Входной тензор')\n",
    "\n",
    "plt.imshow(I)\n",
    "plt.show()\n",
    "print('Результат свертки')\n",
    "x1 = 0\n",
    "y1 = 0\n",
    "plt.imshow(y_conv1[0,x1:,y1:,0]/y_conv1[0].max())\n",
    "plt.show()\n",
    "\n",
    "print('размерность входа',I.shape)\n",
    "print('размерность выхода свертки',y_conv1.shape)\n",
    "\n",
    "print('Результат пулинга')\n",
    "x1p = x1 // strade\n",
    "y1p = y1 // strade\n",
    "plt.imshow(y_pool1[0,y1p:,x1p:,0]/y_pool1[0].max())\n",
    "plt.show()\n",
    "print('размерность выхода пулинга',y_pool1.shape)"
   ]
  },
  {
   "cell_type": "markdown",
   "metadata": {
    "id": "7H7A8KOPm5-K"
   },
   "source": [
    "## Нейронная сеть Lenet5.\n",
    "\n",
    "Lenet5 - это одна из первых сверточных нейронных сетей и она отражает характерные для сверточных нейронных сетей набор элементов - сверточные слои, пуллинг слои и полносвязные слои на конце нейронной сети. Данная архитектура послужила основой для многих современных архитектур сверточных нейронных сетей."
   ]
  },
  {
   "cell_type": "code",
   "execution_count": null,
   "metadata": {
    "colab": {
     "base_uri": "https://localhost:8080/"
    },
    "id": "zSZdJOk7m5-M",
    "outputId": "0a5e229f-fe0a-41c9-cfff-a53b566de31f"
   },
   "outputs": [],
   "source": [
    "from tensorflow.keras.datasets import mnist\n",
    "from tensorflow.keras.utils import to_categorical\n",
    "\n",
    "# загрузка тренировочных и тестовых данных\n",
    "(x_train, y_train), (x_test, y_test) = mnist.load_data()\n",
    "\n",
    "# конвертация чисел из uint8 в float32\n",
    "x_train = x_train.astype('float32')\n",
    "x_test = x_test.astype('float32')\n",
    "\n",
    "# нормализация данных [0, 1]\n",
    "x_train /= 255 \n",
    "x_test /= 255 \n",
    "\n",
    "# трансформация лейблов в one-hot encoding\n",
    "y_train = to_categorical(y_train, 10) \n",
    "y_test = to_categorical(y_test, 10) \n",
    "\n",
    "# изменение размерности массива в 4D массив\n",
    "x_train = x_train.reshape(x_train.shape[0], 28,28,1)\n",
    "x_test = x_test.reshape(x_test.shape[0], 28,28,1)\n",
    "\n",
    "from tensorflow.keras.models import Sequential\n",
    "from tensorflow.keras import models, layers\n",
    "import tensorflow.keras as keras\n",
    "\n",
    "# инициализация пустой модели\n",
    "model = Sequential()\n",
    "\n",
    "# первый сверточный слой\n",
    "model.add(layers.Conv2D(6, kernel_size=(5, 5), strides=(1, 1), activation='tanh', input_shape=(28,28,1), padding=\"same\"))\n",
    "\n",
    "# второй пуллинговый слой\n",
    "model.add(layers.AveragePooling2D(pool_size=(2, 2), strides=(1, 1), padding='valid'))\n",
    "\n",
    "# третий сверточный слой\n",
    "model.add(layers.Conv2D(16, kernel_size=(5, 5), strides=(1, 1), activation='tanh', padding='valid'))\n",
    "\n",
    "# четвертый пуллинговый слой\n",
    "model.add(layers.AveragePooling2D(pool_size=(2, 2), strides=(2, 2), padding='valid'))\n",
    "\n",
    "# пятый полносвязный слой\n",
    "model.add(layers.Conv2D(120, kernel_size=(5, 5), strides=(1, 1), activation='tanh', padding='valid'))\n",
    "\n",
    "# сглаживание CNN выхода чтобы можно было его присоединить к полносвязногому слою\n",
    "model.add(layers.Flatten())\n",
    "\n",
    "# шестой полносвязный слой\n",
    "model.add(layers.Dense(84, activation='tanh'))\n",
    "\n",
    "# выходной слой с функцией активации softmax\n",
    "model.add(layers.Dense(10, activation='softmax'))\n",
    "\n",
    "\n",
    "# компилияция модели\n",
    "model.compile(loss=keras.losses.categorical_crossentropy, optimizer='SGD', metrics=[\"accuracy\"])\n",
    "\n",
    "\n",
    "hist = model.fit(x=x_train,y=y_train, epochs=2, batch_size=128, validation_data=(x_test, y_test), verbose=1)\n",
    "\n",
    "test_score = model.evaluate(x_test, y_test)\n",
    "print(\"Test loss {:.4f}, accuracy {:.2f}%\".format(test_score[0], test_score[1] * 100))\n",
    "\n",
    "\n"
   ]
  },
  {
   "cell_type": "code",
   "execution_count": null,
   "metadata": {
    "colab": {
     "base_uri": "https://localhost:8080/"
    },
    "id": "6DcdKJfE4Ruf",
    "outputId": "e3cbbbdb-8dcc-43a2-a7a4-a245d769a874"
   },
   "outputs": [],
   "source": [
    "model.summary()"
   ]
  },
  {
   "cell_type": "code",
   "execution_count": null,
   "metadata": {
    "colab": {
     "base_uri": "https://localhost:8080/"
    },
    "id": "7dRmLOfh1R9v",
    "outputId": "468ea248-e0c1-4b88-f051-b251d576ced4"
   },
   "outputs": [],
   "source": [
    "y_pred=model.predict(x_test)"
   ]
  },
  {
   "cell_type": "code",
   "execution_count": null,
   "metadata": {
    "colab": {
     "base_uri": "https://localhost:8080/",
     "height": 547
    },
    "id": "W6Zu8NOA0N2f",
    "outputId": "5f7f0af3-2362-41ff-ab8d-aebb650c7e8d"
   },
   "outputs": [],
   "source": [
    "plt.plot(y_pred[0][:])\n",
    "plt.show()\n",
    "print(y_pred[0][:])\n",
    "plt.imshow(x_test[0][:,:,0])\n",
    "plt.show()"
   ]
  },
  {
   "cell_type": "markdown",
   "metadata": {
    "id": "DbVxkOcOm04i"
   },
   "source": [
    "Построим примерно такую же сеть через функцианальное описание"
   ]
  },
  {
   "cell_type": "code",
   "execution_count": null,
   "metadata": {
    "id": "PdX4riMptTXy"
   },
   "outputs": [],
   "source": [
    "from tensorflow.keras.datasets import fashion_mnist\n",
    "from tensorflow.keras.utils import to_categorical\n",
    "\n",
    "# загрузка тренировочных и тестовых данных\n",
    "(x_train, y_train), (x_test, y_test) = fashion_mnist.load_data()\n",
    "\n",
    "# конвертация чисел из uint8 в float32\n",
    "x_train = x_train.astype('float32')\n",
    "x_test = x_test.astype('float32')\n",
    "\n",
    "# нормализация данных [0, 1]\n",
    "x_train /= 255 \n",
    "x_test /= 255 \n",
    "\n",
    "# трансформация лейблов в one-hot encoding\n",
    "y_train = to_categorical(y_train, 10) \n",
    "y_test = to_categorical(y_test, 10) \n",
    "\n",
    "# изменение размерности массива в 4D массив\n",
    "x_train = x_train.reshape(x_train.shape[0], 28,28,1)\n",
    "x_test = x_test.reshape(x_test.shape[0], 28,28,1)"
   ]
  },
  {
   "cell_type": "code",
   "execution_count": null,
   "metadata": {
    "colab": {
     "base_uri": "https://localhost:8080/"
    },
    "id": "q_1hNBrl2enw",
    "outputId": "b4af3bbc-3c71-4544-9188-572521ccc96e"
   },
   "outputs": [],
   "source": [
    "from tensorflow.keras.models import Model \n",
    "# инициализация  модели\n",
    "input1= layers.Input(shape=(28,28,1))\n",
    "# первый сверточный слой\n",
    "x1 = layers.Conv2D(6, kernel_size=(5, 5), strides=(1, 1), activation='tanh',  padding=\"same\")(input1)\n",
    "\n",
    "# второй пуллинговый слой\n",
    "x2 = layers.AveragePooling2D(pool_size=(2, 2), strides=(1, 1), padding='valid')(x1)\n",
    "\n",
    "# третий сверточный слой\n",
    "x3 = layers.Conv2D(16, kernel_size=(5, 5), strides=(1, 1), activation='tanh', padding='valid')(x2)\n",
    "\n",
    "# четвертый пуллинговый слой\n",
    "x4 = layers.AveragePooling2D(pool_size=(2, 2), strides=(2, 2), padding='valid')(x3)\n",
    "\n",
    "# пятый  слой\n",
    "x5 = layers.Conv2D(120, kernel_size=(5, 5), strides=(1, 1), activation='tanh', padding='valid')(x4)\n",
    "\n",
    "# сглаживание CNN выхода чтобы можно было его присоединить к полносвязногому слою\n",
    "x6 = layers.Flatten()(x5)\n",
    "\n",
    "# шестой полносвязный слой\n",
    "x7 = layers.Dense(84, activation='tanh')(x6)\n",
    "\n",
    "# выходной слой с функцией активации softmax\n",
    "out_x = layers.Dense(10, activation='softmax')(x7)\n",
    "\n",
    "\n",
    "# Соберем полную модель сети от входа к выходу \n",
    "model1 = Model(inputs = input1, outputs = out_x) \n",
    "# сделаем несколько промежуточных выходов (через них посмотрим , что происходит в сети) \n",
    "model3 = Model(inputs = input1, outputs = x3)\n",
    "model5 = Model(inputs = input1, outputs = x5)\n",
    "# компилияция модели\n",
    "model1.compile(loss=keras.losses.categorical_crossentropy, optimizer='SGD', metrics=[\"accuracy\"])\n",
    "\n",
    "# Обучаем модель\n",
    "hist = model1.fit(x=x_train,y=y_train, epochs=2, batch_size=128, validation_data=(x_test, y_test), verbose=1)\n",
    "\n",
    "test_score = model1.evaluate(x_test, y_test)\n",
    "print(\"Test loss {:.4f}, accuracy {:.2f}%\".format(test_score[0], test_score[1] * 100))"
   ]
  },
  {
   "cell_type": "markdown",
   "metadata": {
    "id": "7Dpt47ChnboH"
   },
   "source": [
    "Сделаем предикт для примеров тестов"
   ]
  },
  {
   "cell_type": "code",
   "execution_count": null,
   "metadata": {
    "id": "TEPUKwJP5FSA"
   },
   "outputs": [],
   "source": [
    "y_pred=model1.predict(x_test)"
   ]
  },
  {
   "cell_type": "markdown",
   "metadata": {
    "id": "m8z6DP7_ng0n"
   },
   "source": [
    "Подглядываем в третий сверточный слой"
   ]
  },
  {
   "cell_type": "code",
   "execution_count": null,
   "metadata": {
    "id": "Rv5eS9Bc4psX"
   },
   "outputs": [],
   "source": [
    "b = model3.predict(x_test)\n",
    "\n"
   ]
  },
  {
   "cell_type": "markdown",
   "metadata": {
    "id": "AF-zT8rZns0c"
   },
   "source": [
    "Подглядываем в пятый слой"
   ]
  },
  {
   "cell_type": "code",
   "execution_count": null,
   "metadata": {
    "id": "7VxakdlKi62U"
   },
   "outputs": [],
   "source": [
    "b1 = model5.predict(x_test[:10])"
   ]
  },
  {
   "cell_type": "markdown",
   "metadata": {
    "id": "4YxFjQXfIEgq"
   },
   "source": [
    "Содержание внутреннего слоя "
   ]
  },
  {
   "cell_type": "code",
   "execution_count": null,
   "metadata": {
    "colab": {
     "base_uri": "https://localhost:8080/",
     "height": 1000
    },
    "id": "DvLhqr-sHz3R",
    "outputId": "9aeefb8a-fb7b-421d-d063-1b54e6d73572"
   },
   "outputs": [],
   "source": [
    "n = 0\n",
    "plt.imshow(x_test[n,:,:,0])\n",
    "plt.show()\n",
    "\n",
    "plt.figure(figsize=(16,16))\n",
    "for i in range(4):\n",
    "  for j in range(4):\n",
    "    plt.subplot(4,4,i*4+j+1)\n",
    "    plt.imshow(b1[n][:,:,i*4+j])\n",
    "plt.show()"
   ]
  },
  {
   "cell_type": "markdown",
   "metadata": {
    "id": "3HsJqEbXn6lY"
   },
   "source": [
    "Сделаем ссылку для обращения к слою"
   ]
  },
  {
   "cell_type": "code",
   "execution_count": null,
   "metadata": {
    "id": "HWtcLv-DKlx5"
   },
   "outputs": [],
   "source": [
    "wg = model5.get_layer(index = -1)"
   ]
  },
  {
   "cell_type": "markdown",
   "metadata": {
    "id": "ehqJ7AbFoAu-"
   },
   "source": [
    "Получим веса слоя"
   ]
  },
  {
   "cell_type": "code",
   "execution_count": null,
   "metadata": {
    "id": "WGeKZmogLFjY"
   },
   "outputs": [],
   "source": [
    "w_ = wg.get_weights()"
   ]
  },
  {
   "cell_type": "markdown",
   "metadata": {
    "id": "H57yCk59oEYw"
   },
   "source": [
    "Размер ядер слоя"
   ]
  },
  {
   "cell_type": "code",
   "execution_count": null,
   "metadata": {
    "colab": {
     "base_uri": "https://localhost:8080/"
    },
    "id": "qyKD3WKILM5S",
    "outputId": "34a98097-1e05-40a7-8f69-1093a7c75a2e"
   },
   "outputs": [],
   "source": [
    "w_[0].shape"
   ]
  },
  {
   "cell_type": "code",
   "execution_count": null,
   "metadata": {
    "colab": {
     "base_uri": "https://localhost:8080/",
     "height": 918
    },
    "id": "TBeHzrgtr5ju",
    "outputId": "59687c88-dce8-4a8c-dd4a-b159bff82837"
   },
   "outputs": [],
   "source": [
    "plt.figure(figsize=(16,16))\n",
    "for i in range(4):\n",
    "  for j in range(4):\n",
    "    plt.subplot(4,4,i*4+j+1)\n",
    "    plt.imshow(np.abs(w_[0][:,:,0,i*4+j]))\n",
    "plt.show()"
   ]
  },
  {
   "cell_type": "code",
   "execution_count": null,
   "metadata": {
    "colab": {
     "base_uri": "https://localhost:8080/"
    },
    "id": "GT6uQXi5srdP",
    "outputId": "878e864b-2af1-4f5d-d7bb-dea7c517981d"
   },
   "outputs": [],
   "source": [
    "w_[0][:,:,0,3*4+3]"
   ]
  },
  {
   "cell_type": "code",
   "execution_count": null,
   "metadata": {
    "colab": {
     "base_uri": "https://localhost:8080/",
     "height": 242
    },
    "id": "413DVrTVLf8s",
    "outputId": "6aac6bef-a2e1-4cb3-c53e-77803ca93727"
   },
   "outputs": [],
   "source": [
    "plt.figure(figsize=(16,4))\n",
    "for i in range(1):\n",
    "  for j in range(4):\n",
    "    plt.subplot(1,4,j+1)\n",
    "    plt.imshow((w_[0][:,:,0,3*4+j]))\n",
    "plt.show()"
   ]
  },
  {
   "cell_type": "code",
   "execution_count": null,
   "metadata": {
    "colab": {
     "base_uri": "https://localhost:8080/"
    },
    "id": "89O8e3JVkAI2",
    "outputId": "f135d33d-62a5-4b1d-81ab-c7e71e2f9fda"
   },
   "outputs": [],
   "source": [
    "model1.summary()"
   ]
  },
  {
   "cell_type": "markdown",
   "metadata": {
    "id": "d9ztbBnuhb2I"
   },
   "source": [
    "\n",
    "\n",
    "## **Сложные конструкции из простых слоев**\n",
    "\n",
    "Слой для объединения\n",
    "\n",
    "https://keras.io/api/layers/merging_layers/concatenate/"
   ]
  },
  {
   "cell_type": "code",
   "execution_count": null,
   "metadata": {
    "id": "b7bsxdYjh0d2"
   },
   "outputs": [],
   "source": [
    "\n",
    "from tensorflow.keras.layers import Dense, Flatten, Concatenate\n",
    "\n",
    "from tensorflow.keras.utils import plot_model \n"
   ]
  },
  {
   "cell_type": "markdown",
   "metadata": {
    "id": "VfWax9igoidq"
   },
   "source": [
    "Строим сеть из трех нитей"
   ]
  },
  {
   "cell_type": "code",
   "execution_count": null,
   "metadata": {
    "colab": {
     "base_uri": "https://localhost:8080/",
     "height": 661
    },
    "id": "DoXtYL12hXTK",
    "outputId": "98ce08b8-b604-4a40-ab91-012a66694a11"
   },
   "outputs": [],
   "source": [
    "first_input = Input(shape=(28,28,1 ))\n",
    "x11= Conv2D(10,3,activation='relu')(first_input)\n",
    "x11= Flatten()(x11)\n",
    "first_dense = Dense(1, )(x11)\n",
    "\n",
    "second_input = Input(shape=(28,28,1 ))\n",
    "x22= Flatten()(second_input)\n",
    "second_dense = Dense(1, )(x22)\n",
    "\n",
    "merge_one = Concatenate( )([first_dense, second_dense])\n",
    "\n",
    "third_input = Input(shape=(28,28,1 ))\n",
    "x33= Flatten()(third_input)\n",
    "x33 = Dense(1, )(x33)\n",
    "merge_two = Concatenate(axis=1)([merge_one, x33])\n",
    "merge_two=Dense(10, activation='softmax')(merge_two)\n",
    "\n",
    "\n",
    "model_stek = Model(inputs=[first_input, second_input, third_input], outputs=merge_two)\n",
    "ada_grad = tf.keras.optimizers.Adagrad(lr=0.1, epsilon=1e-08, decay=0.0)\n",
    "model_stek.compile(optimizer=ada_grad, loss=tf.keras.losses.CategoricalCrossentropy(),\n",
    "              metrics=['accuracy'])\n",
    "\n",
    "\n",
    "plot_model(model_stek,'model_stek.png')\n",
    "\n"
   ]
  },
  {
   "cell_type": "code",
   "execution_count": null,
   "metadata": {
    "colab": {
     "base_uri": "https://localhost:8080/"
    },
    "id": "riX8YnRGNqXr",
    "outputId": "8db635f6-7947-4e03-ac48-a62223ef8d24"
   },
   "outputs": [],
   "source": [
    "model_stek.summary()"
   ]
  },
  {
   "cell_type": "code",
   "execution_count": null,
   "metadata": {
    "colab": {
     "base_uri": "https://localhost:8080/"
    },
    "id": "bodoQSkkjzUa",
    "outputId": "02f7b885-3a13-40a1-aec8-a73d47e4b0be"
   },
   "outputs": [],
   "source": [
    "hist = model_stek.fit([x_train,x_train,x_train],y_train, epochs = 5, validation_split=0.2)"
   ]
  },
  {
   "cell_type": "markdown",
   "metadata": {
    "id": "ExAWI8K-m5-S"
   },
   "source": [
    "## Пример на Keras более сложной сверточной нейронной сети"
   ]
  },
  {
   "cell_type": "markdown",
   "metadata": {
    "id": "bUPiXBS9m5-U"
   },
   "source": [
    "Давайте теперь попробуем сделать несколько усложненный вариант нейронной сети разобранной ранее. В ней будет на несколько слоев больше и в ней будет использоваться data augumentation, процедура позволяющая за счет искажений изображений увеличить количество тренировочных данных, а как мы знаем чем больше тренировочных данных тем лучше будет работать нейросеть. Для обучения нейросети будем использовать датасет cifar-10. В нем 10 категорий объектов, например - лошадь, лягушка, корабль. Данный датасет уже более сложен для нейронных сетей чем mnist, однако он намного проще датасетов наподобие imagenet где используются сотни классов и архитектуры нейронных сетей для подобных датасетов также понадобяться более сложные."
   ]
  },
  {
   "cell_type": "code",
   "execution_count": null,
   "metadata": {
    "id": "0CMCfvAPdJct"
   },
   "outputs": [],
   "source": [
    "from __future__ import print_function\n",
    "#import tensorflow.keras as keras # расскоментируйте эту строку, чтобы начать обучение\n",
    "from tensorflow.keras.datasets import cifar10\n",
    "from tensorflow.keras.preprocessing.image import ImageDataGenerator\n",
    "from tensorflow.keras.models import Sequential\n",
    "from tensorflow.keras.layers import Dense, Dropout, Activation, Flatten\n",
    "from tensorflow.keras.layers import Conv2D, MaxPooling2D\n",
    "import os"
   ]
  },
  {
   "cell_type": "code",
   "execution_count": null,
   "metadata": {
    "id": "kiRCJY0WdGph"
   },
   "outputs": [],
   "source": [
    "classes=['самолет', 'автомобиль', 'птица', 'кот', 'олень', 'собака', 'лягушка', 'лошадь', 'корабль', 'грузовик']"
   ]
  },
  {
   "cell_type": "code",
   "execution_count": null,
   "metadata": {
    "colab": {
     "base_uri": "https://localhost:8080/"
    },
    "id": "yvG4BrpCwuFz",
    "outputId": "ae369f16-7f50-4b01-fd17-8c1c36913b35"
   },
   "outputs": [],
   "source": [
    "\n",
    "\n",
    "# установка параметров нейросети\n",
    "batch_size = 32\n",
    "num_classes = 10\n",
    "epochs = 1\n",
    "data_augmentation = False\n",
    "num_predictions = 20\n",
    "save_dir = os.path.join(os.getcwd(), 'saved_models')\n",
    "model_name = 'keras_cifar10_trained_model.h5'\n",
    "\n",
    "# разделение тренировочной и тестовой выборки\n",
    "(x_train, y_train), (x_test, y_test) = cifar10.load_data()\n",
    "print('x_train shape:', x_train.shape)\n",
    "print(x_train.shape[0], 'тренировочные примеры')\n",
    "print(x_test.shape[0], 'тестовые примеры')\n",
    "\n",
    "# преобразование матрицы чисел 0-9 в бинарную матрицу чисел 0-1\n",
    "y_train = keras.utils.to_categorical(y_train, num_classes)\n",
    "y_test = keras.utils.to_categorical(y_test, num_classes)\n",
    "\n",
    "\n",
    "x_train = x_train.astype('float32')\n",
    "x_test = x_test.astype('float32')\n",
    "x_train /= 255\n",
    "x_test /= 255"
   ]
  },
  {
   "cell_type": "code",
   "execution_count": null,
   "metadata": {
    "id": "5tT_XojWTENH"
   },
   "outputs": [],
   "source": [
    "data_augmentation = False"
   ]
  },
  {
   "cell_type": "code",
   "execution_count": null,
   "metadata": {
    "colab": {
     "base_uri": "https://localhost:8080/",
     "height": 281
    },
    "id": "rDe1bd1pw5fM",
    "outputId": "e0f7c2a2-2d2e-400d-e5c1-6e23739efee1"
   },
   "outputs": [],
   "source": [
    "N = 30\n",
    "\n",
    "plt.imshow(x_test[N][:,:,:])\n",
    "plt.title('это : '+classes[np.argmax(y_test[N,:])])\n",
    "plt.show()"
   ]
  },
  {
   "cell_type": "code",
   "execution_count": null,
   "metadata": {
    "colab": {
     "base_uri": "https://localhost:8080/"
    },
    "id": "H4Ob9X-gm5-W",
    "outputId": "ea59d75f-e717-4c14-8fdb-58fc24d58d57"
   },
   "outputs": [],
   "source": [
    "\n",
    "\n",
    "# конфигурирование слоев нейросети\n",
    "model = Sequential()\n",
    "\n",
    "# слои нейросети отвественные за свертку и max-pooling\n",
    "model.add(Conv2D(32, (3, 3), padding='same',\n",
    "                 input_shape=x_train.shape[1:]))\n",
    "model.add(Activation('relu'))\n",
    "model.add(Conv2D(32, (3, 3)))\n",
    "model.add(Activation('relu'))\n",
    "model.add(MaxPooling2D(pool_size=(2, 2)))\n",
    "model.add(Dropout( 0.25))\n",
    "\n",
    "model.add(Conv2D(64, (3, 3), padding='same'))\n",
    "model.add(Activation('relu'))\n",
    "model.add(Conv2D(64, (3, 3)))\n",
    "model.add(Activation('relu'))\n",
    "model.add(MaxPooling2D(pool_size=(2, 2)))\n",
    "model.add(Dropout(0.25))\n",
    "\n",
    "# полносвязные слои нейронной сети\n",
    "model.add(Flatten())\n",
    "model.add(Dense(512))\n",
    "model.add(Activation('relu'))\n",
    "model.add(Dropout(0.5))\n",
    "model.add(Dense(num_classes))\n",
    "model.add(Activation('softmax'))\n",
    "\n",
    "# инициализация RMSprop optimizer\n",
    "#opt = tensorflow.keras.optimizers.RMSprop(lr=0.0001, decay=1e-6)\n",
    "\n",
    "# компиляция модели\n",
    "model.compile(loss='categorical_crossentropy',\n",
    "              optimizer='SGD',\n",
    "              metrics=['accuracy'])\n",
    "\n",
    "\n",
    "\n",
    "if not data_augmentation:\n",
    "    print('Не используется data augmentation')\n",
    "    model.fit(x_train, y_train,\n",
    "              batch_size=batch_size,\n",
    "              epochs=epochs,\n",
    "              validation_data=(x_test, y_test),\n",
    "              shuffle=True)\n",
    "else:\n",
    "    print('Использование data augmentation в реальном времени')\n",
    "    # Препроцессинг и data augmentation в реальном времени:\n",
    "    datagen = ImageDataGenerator(\n",
    "        featurewise_center=False,\n",
    "        samplewise_center=False,\n",
    "        featurewise_std_normalization=False,\n",
    "        samplewise_std_normalization=False,\n",
    "        zca_whitening=False, \n",
    "        zca_epsilon=1e-06, \n",
    "        rotation_range=0, \n",
    "        width_shift_range=0.1,\n",
    "        height_shift_range=0.1,\n",
    "        shear_range=0., \n",
    "        zoom_range=0., \n",
    "        channel_shift_range=0.,\n",
    "        fill_mode='nearest',\n",
    "        cval=0.,\n",
    "        horizontal_flip=True,\n",
    "        vertical_flip=False,\n",
    "        rescale=None,\n",
    "        preprocessing_function=None,\n",
    "        data_format=None,\n",
    "        validation_split=0.0)\n",
    "\n",
    "    # запуск data augmentation через fit\n",
    "    #datagen.fit(x_train)\n",
    "\n",
    "    # запуск data augmentation через fit_generator\n",
    "    model.fit_generator(datagen.flow(x_train, y_train,\n",
    "                                     batch_size=batch_size),\n",
    "                        epochs=epochs,\n",
    "                        validation_data=(x_test, y_test),\n",
    "                        workers=4)\n",
    "\n",
    "# сохранение модели и весов\n",
    "if not os.path.isdir(save_dir):\n",
    "    os.makedirs(save_dir)\n",
    "model_path = os.path.join(save_dir, model_name)\n",
    "model.save(model_path)\n",
    "print('сохранить обученную модель как %s ' % model_path)\n",
    "\n",
    "# проверка работы обученной модели\n",
    "scores = model.evaluate(x_test, y_test, verbose=1)\n",
    "print('Test loss:', scores[0])\n",
    "print('Test accuracy:', scores[1])"
   ]
  },
  {
   "cell_type": "markdown",
   "metadata": {
    "id": "WEWU08zQ04SN"
   },
   "source": [
    "Что вернет ImageDataGenerator"
   ]
  },
  {
   "cell_type": "code",
   "execution_count": null,
   "metadata": {
    "id": "H5W8O9FRTcgZ"
   },
   "outputs": [],
   "source": [
    "datagen = ImageDataGenerator(\n",
    "        featurewise_center=False,\n",
    "        samplewise_center=False,\n",
    "        featurewise_std_normalization=False,\n",
    "        samplewise_std_normalization=False,\n",
    "        zca_whitening=False, \n",
    "        zca_epsilon=1e-06, \n",
    "        rotation_range=0, \n",
    "        width_shift_range=0.1,\n",
    "        height_shift_range=0.1,\n",
    "        shear_range=0., \n",
    "        zoom_range=0., \n",
    "        channel_shift_range=0.,\n",
    "        fill_mode='nearest',\n",
    "        cval=0.,\n",
    "        horizontal_flip=True,\n",
    "        vertical_flip=False,\n",
    "        rescale=None,\n",
    "        preprocessing_function=None,\n",
    "        data_format=None,\n",
    "        validation_split=0.0)"
   ]
  },
  {
   "cell_type": "code",
   "execution_count": null,
   "metadata": {
    "colab": {
     "base_uri": "https://localhost:8080/",
     "height": 202
    },
    "id": "GYki_abawYzK",
    "outputId": "c9285647-b9bb-4553-981e-0f4279f9e50e"
   },
   "outputs": [],
   "source": [
    "datagen.fit(x_test)\n",
    "for imag,y  in datagen.flow(x_test[N:N+1,:,:,:],y_test[N:N+1], batch_size=1):\n",
    "    plt.subplot(1,2,1)\n",
    "    plt.imshow(x_test[N][:,:,:])\n",
    "    plt.subplot(1,2,2)\n",
    "    plt.imshow(imag[0,:,:,:])\n",
    "\n",
    "    plt.show()\n",
    "    if True:\n",
    "        break\n"
   ]
  },
  {
   "cell_type": "code",
   "execution_count": null,
   "metadata": {
    "colab": {
     "base_uri": "https://localhost:8080/"
    },
    "id": "K_VqY4kFwE0R",
    "outputId": "19f9b9a3-3eb8-405d-d769-a8ba64f2f80e"
   },
   "outputs": [],
   "source": [
    " model.fit_generator(datagen.flow(x_train, y_train,\n",
    "                                     batch_size=batch_size),\n",
    "                        epochs=epochs,\n",
    "                        validation_data=(x_test, y_test))"
   ]
  },
  {
   "cell_type": "code",
   "execution_count": null,
   "metadata": {
    "colab": {
     "base_uri": "https://localhost:8080/",
     "height": 281
    },
    "id": "D3_01HTZmewa",
    "outputId": "d7625022-dd8b-4e35-d802-c3287b6337b3"
   },
   "outputs": [],
   "source": [
    "N = 30\n",
    "y_p=model.predict(x_test[N:N+1][:,:,:])\n",
    "y_t = np.argmax(y_test[N:N+1], axis = 1 )\n",
    "y_i = np.argmax(y_p, axis = 1 )\n",
    "plt.imshow(x_test[N][:,:,:])\n",
    "plt.title('это : '+classes[y_t[0]]+'- опознан как : '+classes[y_i[0]])\n",
    "plt.show()"
   ]
  },
  {
   "cell_type": "code",
   "execution_count": null,
   "metadata": {
    "id": "Ny65naI49Vil"
   },
   "outputs": [],
   "source": []
  },
  {
   "cell_type": "markdown",
   "metadata": {
    "id": "PHqn01Vpm5-c"
   },
   "source": [
    "## Практическое задание\n",
    "\n",
    "Вариант 1. (простой)\n",
    "\n",
    "- обучить сверточную нейронную сеть в стиле AlexNet (с падением размера ядра свертки и последовательностью блоков свертка-пулинг  (conv-pool)-(conv-pool)-...) на датасете fashion-mnist\n",
    "- оценить рост точности при увеличении ширины сети (больше ядер)\n",
    "- оценить рост точности при увеличении глубины сети (больше слоев)\n",
    "- сравнить с точностью полносвязной сети для этой выборки\n",
    "    </li>\n",
    "\n",
    "Вариант 2. (сложный)\n",
    "- реализовать нейронную сеть или стек из сверток (Concatenate) на сifar10.\n",
    "- оценить рост точности при увеличении ширины сети (больше ядер), больше нитей.\n",
    "- оценить рост точности при увеличении глубины сети (больше слоев)\n",
    "    </li>\n",
    "</ol>"
   ]
  },
  {
   "cell_type": "markdown",
   "metadata": {
    "id": "5m6C7vmSm5-e"
   },
   "source": [
    "## Дополнительные материалы\n",
    "\n",
    "<ol>\n",
    "    <li>https://keras.io/layers/convolutional/</li>\n",
    "    <li>https://keras.io/layers/pooling/</li>\n",
    "    <li>https://keras.io/preprocessing/image/</li>\n",
    "</ol>"
   ]
  },
  {
   "cell_type": "markdown",
   "metadata": {
    "id": "ccp0jnYxm5-g"
   },
   "source": [
    "## Используемая литература \n",
    "\n",
    "Для подготовки данного методического пособия были использованы следующие ресурсы:\n",
    "<ol>\n",
    "    <li>https://keras.io</li>\n",
    "    <li>Шакла Н. — Машинное обучение и TensorFlow 2019</li>\n",
    "    <li>Николенко Сергей Игоревич, Кадурин А. А. - Глубокое обучение. Погружение в мир нейронных сетей  2018</li>\n",
    "    <li>Francois Chollet - Deep Learning with Python 2018</li>\n",
    "    <li>Alex Krizhevsky, Ilya Sutskever, Geoffrey E. Hinton - ImageNet Classification with Deep Convolutional Neural Networks</li>\n",
    "    <li>Karen Simonyan, Andrew Zisserman - Very Deep Convolutional Networks for Large-Scale Image Recognition</li>\n",
    "    <li>Википедия</li>    \n",
    "</ol>"
   ]
  },
  {
   "cell_type": "code",
   "execution_count": null,
   "metadata": {
    "id": "9nB_dTU9m5-i"
   },
   "outputs": [],
   "source": [
    "from tensorflow.keras.datasets import imdb"
   ]
  },
  {
   "cell_type": "code",
   "execution_count": null,
   "metadata": {
    "colab": {
     "base_uri": "https://localhost:8080/"
    },
    "id": "OAMMmHyLm5-n",
    "outputId": "e8eb88be-9274-4e33-ce21-16c4e1feb5c6"
   },
   "outputs": [],
   "source": [
    "(x,y),(d,h) =imdb.load_data(path='imdb.npz')"
   ]
  },
  {
   "cell_type": "code",
   "execution_count": null,
   "metadata": {
    "colab": {
     "base_uri": "https://localhost:8080/"
    },
    "id": "0Q0DL8YDWiri",
    "outputId": "da9505d3-bf96-4dc3-f477-3c388f58baa8"
   },
   "outputs": [],
   "source": [
    "(np.array(x[0])==22).sum()"
   ]
  },
  {
   "cell_type": "code",
   "execution_count": null,
   "metadata": {
    "colab": {
     "base_uri": "https://localhost:8080/"
    },
    "id": "QegQwyO4Wv4C",
    "outputId": "d546f50e-76a1-43c4-9bdf-7d80b01ed4f2"
   },
   "outputs": [],
   "source": [
    "h[0]"
   ]
  },
  {
   "cell_type": "code",
   "execution_count": null,
   "metadata": {
    "id": "vLVUQo6LYOQB"
   },
   "outputs": [],
   "source": []
  }
 ],
 "metadata": {
  "accelerator": "GPU",
  "colab": {
   "collapsed_sections": [],
   "name": "metodich4_colab.ipynb",
   "provenance": []
  },
  "kernelspec": {
   "display_name": "Python 3",
   "language": "python",
   "name": "python3"
  },
  "language_info": {
   "codemirror_mode": {
    "name": "ipython",
    "version": 3
   },
   "file_extension": ".py",
   "mimetype": "text/x-python",
   "name": "python",
   "nbconvert_exporter": "python",
   "pygments_lexer": "ipython3",
   "version": "3.7.1"
  }
 },
 "nbformat": 4,
 "nbformat_minor": 1
}